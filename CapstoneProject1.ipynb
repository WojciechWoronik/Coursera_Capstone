{
 "cells": [
  {
   "cell_type": "markdown",
   "metadata": {},
   "source": [
    "<h1>Welcome to my Capstone Project on the The Battle of Neighborhoods (Week 1)</h1>"
   ]
  },
  {
   "cell_type": "markdown",
   "metadata": {},
   "source": [
    "<h3> 1. A description of the problem and a discussion of the background.</h3>\n",
    "    <i>Find out if number of venues/activities in the Toronto neighbourhoods is related with wealthiness of the local population. This can provide an insight for investors on any future investment (cultural or gastronomy service) in the selected area.</i>"
   ]
  },
  {
   "cell_type": "markdown",
   "metadata": {},
   "source": [
    "<h3> 2. A description of the data and how it will be used to solve the problem.</h3>\n",
    "    <i>In order to fulfill the above assumptions two separate datasets will be used:\n",
    "    <li><b>Latest Census data for Toronto city</b> - including details on Population and Income per each Neighbourhood</li>\n",
    "    <li> <b>Forsquare API location data</b> - mostly details about venues </li>"
   ]
  },
  {
   "cell_type": "code",
   "execution_count": null,
   "metadata": {
    "jupyter": {
     "source_hidden": true
    }
   },
   "outputs": [],
   "source": []
  },
  {
   "cell_type": "markdown",
   "metadata": {},
   "source": [
    "Regards,<br>\n",
    "Wojciech"
   ]
  }
 ],
 "metadata": {
  "kernelspec": {
   "display_name": "Python",
   "language": "python",
   "name": "conda-env-python-py"
  },
  "language_info": {
   "codemirror_mode": {
    "name": "ipython",
    "version": 3
   },
   "file_extension": ".py",
   "mimetype": "text/x-python",
   "name": "python",
   "nbconvert_exporter": "python",
   "pygments_lexer": "ipython3",
   "version": "3.6.7"
  }
 },
 "nbformat": 4,
 "nbformat_minor": 4
}
